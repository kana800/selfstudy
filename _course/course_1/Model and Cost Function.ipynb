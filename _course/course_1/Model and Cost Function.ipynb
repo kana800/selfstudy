{
 "cells": [
  {
   "cell_type": "markdown",
   "id": "innocent-belgium",
   "metadata": {},
   "source": [
    "#### Model Representation\n",
    "\n",
    "Example:\n",
    "\n",
    "Training set of housing prices (Portland, OR)\n",
    "\n",
    "|Size in feet (x)|Price ($) in 1000's (y)|\n",
    "|---|---|\n",
    "|2104|460|\n",
    "|1416|232|\n",
    "|1534|315|\n",
    "|852|178|\n",
    "\n",
    "---\n",
    "Notation:\n",
    "\n",
    "- m = Number of training examples\n",
    "\n",
    "- x's = \"input\" variable/features\n",
    "\n",
    "- y's = \"output\" variable/\"target\" variable\n",
    "\n",
    "#### Training examples\n",
    "\n",
    "- (x,y) is one training example\n",
    "- (x^i, y^i) i^th training example\n",
    "\n",
    "`x^1 = 2104, y^1 = 460`\n",
    "`x^2 = 1416, y^2 = 232`\n",
    "\n",
    "\n",
    "\n",
    "```\n",
    " __________         ___________          _________\n",
    "| Training |       | Learning  |        |         |\n",
    "|   set    | ----->| Algorithm | -----> |    h    |\n",
    "|__________|       |___________|        |_________|\n",
    "\n",
    "```\n",
    "\n",
    "```\n",
    "             ________\n",
    "            |        |\n",
    "input ----->|   h    | ------> output\n",
    "            |________|\n",
    "```\n",
    "\n",
    "*h* stands for the hypothesis\n",
    "\n",
    "we can represent *h* as $h_{0}(x) = \\theta_0 + \\theta x$, this equation can be considered as $y = mx + c$ where `m = \\theta_0` and `c=\\theta_1`."
   ]
  },
  {
   "cell_type": "markdown",
   "id": "continued-sleeve",
   "metadata": {},
   "source": [
    "#### Cost Function\n",
    "\n",
    "We can measure the accuracy of our hypothesis function by using a cost function (performance measure). This is taken by the square of the difference between the line value and input value.\n",
    "\n",
    "\n",
    "![RMSE](https://latex.codecogs.com/png.latex?%5Cinline%20%5Ctextup%7BRMSE%7D%28%5Cmathbf%7BX%7D%2Ch%29%20%3D%20%5Csqrt%7B%5Cfrac%7B1%7D%7Bm%7D%20%5Csum_%7Bi%20%3D%201%7D%5E%7Bm%7D%28h%28%5Cmathbf%7Bx%7D%5E%7B%28i%29%7D-y%5E%7B%28i%29%7D%29%29%5E%7B2%7D%7D)\n",
    "\n",
    "> our objective is to get the best possbile line (Best Fit line). The best possible line will be such so that the averaged squared vertical distances of the scattered points from the line will be least.\n",
    "\n",
    "![moreRMSE](https://latex.codecogs.com/gif.latex?h_%7B%5Ctheta%7D%28x%5E%7B%28i%29%7D%29%20%3D%20%5Ctheta_%7B0%7D%20&plus;%20%5Ctheta_%7B1%7Dx%5E%7Bi%7D)"
   ]
  },
  {
   "cell_type": "markdown",
   "id": "overhead-symphony",
   "metadata": {},
   "source": [
    "#### Testing out Cost Function for `y = mx`"
   ]
  },
  {
   "cell_type": "code",
   "execution_count": 27,
   "id": "overall-steam",
   "metadata": {},
   "outputs": [
    {
     "data": {
      "image/png": "[encoded data removed]",
      "text/plain": [
       "<Figure size 432x288 with 2 Axes>"
      ]
     },
     "metadata": {
      "needs_background": "light"
     },
     "output_type": "display_data"
    }
   ],
   "source": [
    "# plotting the graphs\n",
    "import matplotlib.pyplot as plt\n",
    "import numpy as np\n",
    "x = np.linspace(0,3,100)\n",
    "# hypothesis goes here\n",
    "y = x\n",
    "fig, (ax1,ax2) = plt.subplots(1,2)\n",
    "ax1.plot(x,y,'-r',label='y = x')\n",
    "ax1.plot([1,2,3],[1,2,3],ls=\"\",marker = \"o\")\n",
    "ax1.set_title('Hypothesis Function when m = 1')\n",
    "\n",
    "ax2.plot([1],[0],ls=\"\",marker = \"x\")\n",
    "ax2.set_title('Cost Function')\n",
    "ax2.set_xlim([-0.5,2.5])\n",
    "ax2.set_ylim([0,3]);"
   ]
  },
  {
   "cell_type": "markdown",
   "id": "american-clause",
   "metadata": {},
   "source": [
    "#### Testing out the Cost Function for `y = 0.5x`\n",
    "\n",
    "when hypothesis is $h = 0.5\\theta$, the sum of the square difference between the when $\\theta = 1$ values and $\\theta = 0.5$ will be used to calculate $J(\\theta)$.\n",
    "\n",
    "![](https://latex.codecogs.com/png.latex?%5Cinline%20J%280.5%29%20%3D%20%5Cfrac%7B1%7D%7B2m%7D%5B%280.5-1%29%5E2&plus;%281-2%29%5E2&plus;%28%291.5-3%29%5E2%5D)\n",
    "\n",
    "![](https://latex.codecogs.com/png.latex?%5Cinline%20J%280.5%29%20%3D%20%5Cfrac%7B1%7D%7B2%20%5Ctimes%203%7D%283.5%29%20%5Capprox%200.58)\n",
    "\n",
    "After plotting several line we will get a quadratic graph and the global minimum of the value will be our $\\theta_{1}$"
   ]
  },
  {
   "cell_type": "code",
   "execution_count": 26,
   "id": "simple-wholesale",
   "metadata": {},
   "outputs": [
    {
     "data": {
      "image/png": "[encoded data removed]",
      "text/plain": [
       "<Figure size 432x288 with 2 Axes>"
      ]
     },
     "metadata": {
      "needs_background": "light"
     },
     "output_type": "display_data"
    }
   ],
   "source": [
    "# plotting the graphs\n",
    "import matplotlib.pyplot as plt\n",
    "import numpy as np\n",
    "x = np.linspace(0,3,100)\n",
    "# hypothesis goes here\n",
    "y = 0.5*x\n",
    "fig, (ax1,ax2) = plt.subplots(1,2)\n",
    "ax1.plot(x,y,'-r',label='y = x')\n",
    "ax1.plot([1,2,3],[1,2,3],ls=\"\",marker = \"o\")\n",
    "ax1.set_title('Hypothesis Function when m = 0.5')\n",
    "ax1.set_xlim([0,3])\n",
    "ax1.set_ylim([0,3]);\n",
    "\n",
    "# drawing lines\n",
    "ax1.plot([1,1],[0.5,1],'-b')\n",
    "ax1.plot([2,2],[1,2],'-b')\n",
    "ax1.plot([3,3],[1.5,3],'-b')\n",
    "\n",
    "\n",
    "ax2.plot([1,0.5],[0,0.58],marker = \"x\")\n",
    "ax2.set_title('Cost Function')\n",
    "ax2.set_xlim([-0.5,2.5])\n",
    "ax2.set_ylim([0,3]);"
   ]
  },
  {
   "cell_type": "markdown",
   "id": "affecting-internship",
   "metadata": {},
   "source": [
    "When the graph has two parameters we will get contour plot instead of a quadratic graph, when we can use something known as **Gradient Descent** to find the **Global Minimum**. Gradient Descent uses partial dervatives."
   ]
  },
  {
   "cell_type": "markdown",
   "id": "sudden-bleeding",
   "metadata": {},
   "source": [
    "#### References\n",
    "\n",
    "[cousera](https://www.coursera.org/learn/machine-learning/lecture/db3jS/model-representation)"
   ]
  }
 ],
 "metadata": {
  "kernelspec": {
   "display_name": "Python 3",
   "language": "python",
   "name": "python3"
  },
  "language_info": {
   "codemirror_mode": {
    "name": "ipython",
    "version": 3
   },
   "file_extension": ".py",
   "mimetype": "text/x-python",
   "name": "python",
   "nbconvert_exporter": "python",
   "pygments_lexer": "ipython3",
   "version": "3.8.5"
  }
 },
 "nbformat": 4,
 "nbformat_minor": 5
}
