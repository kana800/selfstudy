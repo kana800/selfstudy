{
 "cells": [
  {
   "cell_type": "markdown",
   "id": "innocent-belgium",
   "metadata": {},
   "source": [
    "#### Model Representation\n",
    "\n",
    "Example:\n",
    "\n",
    "Training set of housing prices (Portland, OR)\n",
    "\n",
    "|Size in feet (x)|Price ($) in 1000's (y)|\n",
    "|---|---|\n",
    "|2104|460|\n",
    "|1416|232|\n",
    "|1534|315|\n",
    "|852|178|\n",
    "\n",
    "---\n",
    "Notation:\n",
    "\n",
    "- m = Number of training examples\n",
    "\n",
    "- x's = \"input\" variable/features\n",
    "\n",
    "- y's = \"output\" variable/\"target\" variable\n",
    "\n",
    "#### Training examples\n",
    "\n",
    "- (x,y) is one training example\n",
    "- (x^i, y^i) i^th training example\n",
    "\n",
    "`x^1 = 2104, y^1 = 460`\n",
    "`x^2 = 1416, y^2 = 232`\n",
    "\n",
    "\n",
    "\n",
    "```\n",
    " __________         ___________          _________\n",
    "| Training |       | Learning  |        |         |\n",
    "|   set    | ----->| Algorithm | -----> |    h    |\n",
    "|__________|       |___________|        |_________|\n",
    "\n",
    "```\n",
    "\n",
    "```\n",
    "             ________\n",
    "            |        |\n",
    "input ----->|   h    | ------> output\n",
    "            |________|\n",
    "```\n",
    "\n",
    "*h* stands for the hypothesis\n",
    "\n",
    "we can represent *h* as $h_{0}(x) = \\theta_0 + \\theta x$\n"
   ]
  },
  {
   "cell_type": "markdown",
   "id": "continued-sleeve",
   "metadata": {},
   "source": [
    "#### Cost Function\n",
    "\n",
    "We can measure the accuracy of our hypothesis function by using a cost function (performance measure). This is taken by the square of the difference between the line value and input value.\n",
    "\n",
    "\n",
    "![RMSE](https://latex.codecogs.com/png.latex?%5Cinline%20%5Ctextup%7BRMSE%7D%28%5Cmathbf%7BX%7D%2Ch%29%20%3D%20%5Csqrt%7B%5Cfrac%7B1%7D%7Bm%7D%20%5Csum_%7Bi%20%3D%201%7D%5E%7Bm%7D%28h%28%5Cmathbf%7Bx%7D%5E%7B%28i%29%7D-y%5E%7B%28i%29%7D%29%29%5E%7B2%7D%7D)\n",
    "\n",
    "> our objective is to get the best possbile line (Best Fit line). The best possible line will be such so that the averaged squared vertical distances of the scattered points from the line will be least."
   ]
  },
  {
   "cell_type": "markdown",
   "id": "sudden-bleeding",
   "metadata": {},
   "source": [
    "#### References\n",
    "\n",
    "[cousera](https://www.coursera.org/learn/machine-learning/lecture/db3jS/model-representation)"
   ]
  }
 ],
 "metadata": {
  "kernelspec": {
   "display_name": "Python 3",
   "language": "python",
   "name": "python3"
  },
  "language_info": {
   "codemirror_mode": {
    "name": "ipython",
    "version": 3
   },
   "file_extension": ".py",
   "mimetype": "text/x-python",
   "name": "python",
   "nbconvert_exporter": "python",
   "pygments_lexer": "ipython3",
   "version": "3.8.5"
  }
 },
 "nbformat": 4,
 "nbformat_minor": 5
}
