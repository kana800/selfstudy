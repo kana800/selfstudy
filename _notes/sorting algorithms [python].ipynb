{
 "cells": [
  {
   "cell_type": "markdown",
   "metadata": {},
   "source": [
    "**This notebook contains the source code for sorting algorithms**"
   ]
  },
  {
   "cell_type": "code",
   "execution_count": 1,
   "metadata": {},
   "outputs": [],
   "source": [
    "# array\n",
    "arr = [2,7,4,1,5,3];"
   ]
  },
  {
   "cell_type": "markdown",
   "metadata": {},
   "source": [
    "## Selection Sort\n",
    "\n",
    "Take a the following array `[9,6,3,4]` as an example.\n",
    "\n",
    "We will select the minimum value from this array which is `3` and move to another array and then we select the next minimum value, `4`  and we will move this integer to another array and this goes so on.\n",
    "\n",
    "\n",
    "|Current Minimum|Left|Right|\n",
    "|---|---|---|\n",
    "|---|---|---|\n",
    "|`3`|`[9,6,4]`|`[3]`|\n",
    "|`4`|`[9,6]`|`[3,4]`|\n",
    "|`6`|`[9]`|`[3,4,6]`|\n",
    "|`9`|---|`[3,4,6,9]`|\n",
    "\n",
    "\n",
    "This logic will work fine but it needs extra memory for the array we are making on the `right`. The larger size of `left` the larger the extra memory requirement for creation of this temporary array `right`.\n",
    "\n",
    "We need to make an **inplace sorting algorithm** to remove the extra memory used in the array.\n",
    "\n",
    "Now we instead of moving the elements to the `right` we will swap the array with the current index.\n",
    "\n",
    "Example: The minimum element of the array `[9,6,3,4]` is `3`. We will swap the element at the *0th Index* (which is `9`) with `3`.\n",
    "\n",
    "\n",
    "|Current Minimum|Array A|Array A (after)|\n",
    "|---|---|---|\n",
    "|---|---|---|\n",
    "|`3`|`[9,6,3,4]`|`[3,9,6,4]`|\n",
    "|`4`|`[3,9,6,4]`|`[3,4,9,6]`|\n",
    "|`6`|`[3,4,9,6]`|`[3,4,6,9]`|\n",
    "|`9`|---|`[3,4,6,9]`|\n",
    "\n",
    "\n",
    "- **Time Complexity of this array is** : $O(n^2)$"
   ]
  },
  {
   "cell_type": "code",
   "execution_count": 9,
   "metadata": {},
   "outputs": [
    {
     "data": {
      "text/plain": [
       "[1, 2, 3, 4, 5, 7]"
      ]
     },
     "execution_count": 9,
     "metadata": {},
     "output_type": "execute_result"
    }
   ],
   "source": [
    "def selectionsort(arr):\n",
    "    n = len(arr)\n",
    "    for i in range(0,n-1):\n",
    "        imin = i\n",
    "        for j in range(i+1,n):\n",
    "            if arr[j] < arr[imin]:\n",
    "                imin = j\n",
    "        temp = arr[i]\n",
    "        arr[i] = arr[imin]\n",
    "        arr[imin] = temp\n",
    "    return arr\n",
    "\n",
    "selectionsort(arr)"
   ]
  },
  {
   "cell_type": "markdown",
   "metadata": {},
   "source": [
    "## Bubble Sort\n",
    "\n",
    "\n",
    "In this sorting algorithm we will scan the array left to right multiple times. We will compare the element with the adjacent element in the next position.\n",
    "\n",
    "First Pass:\n",
    "\n",
    "\n",
    "|Sort|Before|After|\n",
    "|---|---||\n",
    "|`9` & `6`|`[9,6,4,3]`|`[6,9,4,3]`|\n",
    "|`9` & `4`|`[6,9,4,3]`|`[6,4,9,3]`|\n",
    "|`3` & `9`|`[6,4,9,3]`|`[6,4,3,9]`|\n",
    "\n",
    "- **Time Complexity of this array is (Average Case)** : $O(n^2)$\n",
    "- **Time Complexity of this array is (Best Case)** : $O(n)$\n",
    "- **Time Complexity of this array is (Worst Case)** : $O(n^2)$"
   ]
  },
  {
   "cell_type": "code",
   "execution_count": 17,
   "metadata": {},
   "outputs": [
    {
     "data": {
      "text/plain": [
       "[1, 2, 3, 4, 5, 7]"
      ]
     },
     "execution_count": 17,
     "metadata": {},
     "output_type": "execute_result"
    }
   ],
   "source": [
    "def bubblesort(arr):\n",
    "    n = len(arr)\n",
    "    for j in range(1,n-1):\n",
    "        for i in range(0,n-2):\n",
    "            if arr[i] > arr[i + 1]:\n",
    "                # swapping\n",
    "                arr[i],arr[i+1] = arr[i+1],arr[i]\n",
    "    return arr\n",
    "\n",
    "bubblesort(arr)"
   ]
  },
  {
   "cell_type": "markdown",
   "metadata": {},
   "source": [
    "## Insertion Sort\n",
    "\n",
    "*Little more efficient than bubble sort and selection sort*\n",
    "\n",
    "Lets say we have an array `[9,3,6,4]`, we can keep all the cards of *left* hand and one by one move it to the *right* hand.\n",
    "\n",
    "|Selected|Left|Right|\n",
    "|---|---|---|\n",
    "|---|---|---|\n",
    "|`9`|`[9,3,6,4]`|`[9]`|\n",
    "|`3`|`[3,6,4]`|`[3,9]`|\n",
    "|`6`|`[6,4]`|`[3,6,9]`|\n",
    "|`4`|`[4]`|`[3,4,6,9]`|\n",
    "\n",
    "Instead of using two arrays we can use one array *inplace*, we can do divide our array into two subsets, *sorted subset* & *unsorted subset*. Initially all the cards are in unsorted subset. We are picking up one card from the *unsorted subset* and moving it to the *sorted subset*.\n",
    "\n",
    "|Selected|sorted - unsorted|\n",
    "|---|---|\n",
    "|---|---|\n",
    "|`9`|`[9-3,6,4]`|\n",
    "|`3`|`[3,9-6,4]`|\n",
    "|`6`|`[3,6,9-4]`|\n",
    "|`4`|`[3,4,6,9-]`|\n",
    "\n",
    "- **Time Complexity of this array is (Average Case)** : $O(n^2)$\n",
    "- **Time Complexity of this array is (Best Case)** : $O(n)$\n",
    "- **Time Complexity of this array is (Worst Case)** : $O(n^2)$\n"
   ]
  },
  {
   "cell_type": "code",
   "execution_count": 5,
   "metadata": {},
   "outputs": [
    {
     "data": {
      "text/plain": [
       "[1, 2, 3, 4, 5, 7]"
      ]
     },
     "execution_count": 5,
     "metadata": {},
     "output_type": "execute_result"
    }
   ],
   "source": [
    "def insertionsort(n):\n",
    "    array_length = len(n)\n",
    "    for i in range(1,array_length):\n",
    "        value = n[i]\n",
    "        hole = i\n",
    "        while hole > 0 and n[hole-1]>value:\n",
    "                n[hole] = n[hole-1]\n",
    "                hole = hole -1\n",
    "        n[hole]=value\n",
    "    return n\n",
    "insertionsort(arr)"
   ]
  },
  {
   "cell_type": "markdown",
   "metadata": {},
   "source": [
    "## Merge Sort\n",
    "\n",
    "The array is divided into two possible equal parts.\n",
    "\n",
    "Take array as example: \n",
    "A `[2,4,1,6,8,5,3,7]`\n",
    "\n",
    "||Left|Right|\n",
    "|---|---|---|\n",
    "|`[2,4,1,6,8,5,3,7]`|`[2,4,1,6]`|`[8,5,3,7]`|\n",
    "\n",
    "```peusdocode\n",
    "\n",
    "Merge(L,R,A)\n",
    "{\n",
    "    nL = length(L)\n",
    "    nR = length(R)\n",
    "    i = j = k = 0\n",
    "    \n",
    "    while (i < nL && j < nR)\n",
    "    {\n",
    "        if (L[i] <= R[j])\n",
    "        {\n",
    "            A[k] = L[i]\n",
    "            k += 1\n",
    "            i += 1\n",
    "        }\n",
    "        else\n",
    "        {\n",
    "            A[k] = R[j]\n",
    "            k += 1\n",
    "            j += 1\n",
    "        }\n",
    "        k += 1\n",
    "    }\n",
    "    while (i <nL)\n",
    "    {\n",
    "        A[k] = L[i]; i+=1 ; k+=1;\n",
    "    }\n",
    "    while (j < nR)\n",
    "    {\n",
    "        A[k] = R[j];j+=1;k+=1;\n",
    "    }\n",
    "}   \n",
    "```\n",
    "||Left|Right|\n",
    "|---|---|---|\n",
    "|`[2,4,1,6,8,5,3,7]`|`[2,4,1,6]`|`[8,5,3,7]`|\n",
    "|`[2,4,1,6]`|`[2,4]`|`[1,6]`|\n",
    "|`[8,5,3,7]`|`[8,5]`|`[3,7]`|\n",
    "|`[2,4]`|`2`|`4`|\n",
    "|`[1,6]`|`1`|`6`|\n",
    "|`[8,5]`|`8`|`5`|\n",
    "|`[3,7]`|`3`|`7`|\n",
    "\n",
    "*what we are doing here is reducing our main problem into subproblems using recursion*\n",
    "\n",
    "```pesudocode\n",
    "\n",
    "MergeSort(A)\n",
    "{\n",
    "    n = length(A)\n",
    "    \n",
    "    if (n < 2)\n",
    "    {\n",
    "        return \n",
    "    }\n",
    "    mid = n / 2\n",
    "    left = array of size(mid)\n",
    "    right = array of size(n-mid)\n",
    "    \n",
    "    for (i = 0,i < mid -1;i++)\n",
    "    {\n",
    "        left[i] = A[i]\n",
    "    }\n",
    "    for (i = mid,i < n -1;i++)\n",
    "    {\n",
    "        right[i-mid] = A[i]\n",
    "    }\n",
    "    MergeSort(Left)\n",
    "    MergeSort(right)\n",
    "    Merge(left,right,A)\n",
    "}\n",
    "\n",
    "```"
   ]
  },
  {
   "cell_type": "code",
   "execution_count": 13,
   "metadata": {},
   "outputs": [
    {
     "data": {
      "text/plain": [
       "[1, 2, 3, 4, 5, 7]"
      ]
     },
     "execution_count": 13,
     "metadata": {},
     "output_type": "execute_result"
    }
   ],
   "source": [
    "def mergesort(data,):\n",
    "    merge_sort_algorithm(data,0,len(data)-1)\n",
    "    return data\n",
    "\n",
    "def merge_sort_algorithm(data,left,right):\n",
    "    if left < right:\n",
    "        mid = (left+right)//2\n",
    "        merge_sort_algorithm(data,left,mid)\n",
    "        merge_sort_algorithm(data,mid+1,right,)\n",
    "        merge(data,left,mid,right)\n",
    "    \n",
    "\n",
    "def merge(data,left,mid,right):\n",
    "    leftpart=data[left:mid+1]\n",
    "    rightpart = data[mid+1:right+1]\n",
    "\n",
    "    leftindex = rightindex = 0\n",
    "\n",
    "    for dataindex  in range(left,right+1):\n",
    "        if len(leftpart) > leftindex and len(rightpart) > rightindex:\n",
    "            if leftpart[leftindex] >  rightpart[rightindex]:\n",
    "                data[dataindex] = rightpart[rightindex]\n",
    "                rightindex += 1\n",
    "            else:\n",
    "                data[dataindex] = leftpart[leftindex]\n",
    "                leftindex += 1\n",
    "        elif len(leftpart) > leftindex:\n",
    "            data[dataindex] = leftpart[leftindex]\n",
    "            leftindex += 1\n",
    "        else:\n",
    "            data[dataindex] = rightpart[rightindex]\n",
    "            rightindex += 1\n",
    "            \n",
    "mergesort(arr)"
   ]
  },
  {
   "cell_type": "markdown",
   "metadata": {},
   "source": [
    "## Analysis of Merge Sort\n",
    "\n",
    "1. Merge sort algorithm is a **Divide and Conquer** algorithm, we break a problem into sub-problem and from solutions to sub-problems we construct solution of the actual problem.\n",
    "\n",
    "2. Recursive algorithm\n",
    "3. Stable Sorting algorithm\n",
    "4. Not an inplace sorting algorithm, An inplace sorting algorithm takes up constant amount of extra memory to sort a list.\n",
    "\n",
    "Space complexity of merge sort is $O(n)$\n",
    "\n",
    "Time complexity of merge sort is $O(nlogn)$"
   ]
  },
  {
   "cell_type": "markdown",
   "metadata": {},
   "source": [
    "## Quick Sort\n",
    "\n",
    "Another recursive algorithm that follows divide and conquer strategy.\n",
    "\n",
    "Space complexity of quick sort is $O(1)$\n",
    "\n",
    "Time complexity of quick sort is $O(nlogn)$ **avg case running time**\n",
    "\n",
    "Time complexity of quick sort is $O(n^{2})$ **worst case running time**\n",
    "\n",
    "Array: `[7,2,1,6,8,5,3,4]`\n",
    "\n",
    "WE select any element in the array to be a **pivot** `4`. Then we rearrange the elements such that elements that are lesser than the pivot are towards the left of it and all the elements greater than the pivot are towards right side of it. This whole process is known as **partition of a list**.\n",
    "\n",
    "**we need to stop the recursion when the sub-list is only one element**\n",
    "\n",
    "```pesudocode\n",
    "quicksort(A,start,end)\n",
    "{\n",
    "    if (start < end)\n",
    "    {\n",
    "        pIndex = partition(A,start,end);\n",
    "        QuickSort(A,start,pIndex-1);\n",
    "        QuickSort(A,pIndex+1,end);\n",
    "    }\n",
    "}\n",
    "\n",
    "partition(A,start,end)\n",
    "{\n",
    "    pivot = A[end];\n",
    "    pIndex = start;\n",
    "    for i start to end-1\n",
    "    {\n",
    "        if A[i] <= pivot\n",
    "        {\n",
    "            swap(A[i],A[pIndex])\n",
    "            pIndex += 1\n",
    "        }\n",
    "    }\n",
    "}\n",
    "```"
   ]
  },
  {
   "cell_type": "markdown",
   "metadata": {},
   "source": [
    "## References\n",
    "\n",
    "[youtube links](https://www.youtube.com/watch?v=3Bbm3Prd5Fo&list=PL2_aWCzGMAwKedT2KfDMB9YA5DgASZb3U)"
   ]
  }
 ],
 "metadata": {
  "kernelspec": {
   "display_name": "Python 3",
   "language": "python",
   "name": "python3"
  },
  "language_info": {
   "codemirror_mode": {
    "name": "ipython",
    "version": 3
   },
   "file_extension": ".py",
   "mimetype": "text/x-python",
   "name": "python",
   "nbconvert_exporter": "python",
   "pygments_lexer": "ipython3",
   "version": "3.8.3"
  }
 },
 "nbformat": 4,
 "nbformat_minor": 4
}
