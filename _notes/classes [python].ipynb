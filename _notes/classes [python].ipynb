{
 "cells": [
  {
   "cell_type": "markdown",
   "metadata": {},
   "source": [
    "**Why we use classes?**\n",
    "\n",
    "Allow us to logically group data & function in a way thats easy to reuse.\n",
    "\n",
    "Data and Functions associated with a class are known as *attributes* & *methods*\n",
    "Therefore,\n",
    "A method is a *function associated with a class*"
   ]
  },
  {
   "cell_type": "markdown",
   "metadata": {},
   "source": [
    "class will be the blueprint for creating instances and each unique *employee* that we create using our class will be an instance of that class."
   ]
  },
  {
   "cell_type": "code",
   "execution_count": 2,
   "metadata": {},
   "outputs": [
    {
     "name": "stdout",
     "output_type": "stream",
     "text": [
      "<__main__.Employee object at 0x7fde3847f4f0>\n",
      "<__main__.Employee object at 0x7fde3847f5e0>\n"
     ]
    }
   ],
   "source": [
    "class Employee:\n",
    "    pass\n",
    "\n",
    "emp1 = Employee() #instance of the class Employee\n",
    "emp2 = Employee() #instance of the class Employee\n",
    "\n",
    "print(emp1)\n",
    "print(emp2)"
   ]
  },
  {
   "cell_type": "markdown",
   "metadata": {},
   "source": [
    "**Instance variables** contains *Data* that is *unique* to each instance."
   ]
  },
  {
   "cell_type": "code",
   "execution_count": 10,
   "metadata": {},
   "outputs": [],
   "source": [
    "class Employee:\n",
    "    def __init__(self,first,last,pay):\n",
    "        self.first = first\n",
    "        self.last = last\n",
    "        self.pay = pay\n",
    "        self.email = first+last+\"@fortune500.com\"\n",
    "        \n",
    "emp1 = Employee(\"John\",\"Wayne\",\"6969\") #instance of the class Employee\n",
    "emp2 = Employee(\"Baite\",\"Man\",\"42069\") #instance of the class Employee"
   ]
  },
  {
   "cell_type": "markdown",
   "metadata": {},
   "source": [
    "`self` is the `instance`.\n",
    "\n",
    "`self.first = first` is similar to `emp1.first = John`"
   ]
  },
  {
   "cell_type": "code",
   "execution_count": 9,
   "metadata": {},
   "outputs": [
    {
     "name": "stdout",
     "output_type": "stream",
     "text": [
      "emp1.email JohnWayne@fortune500.com\n",
      "emp2.email BaiteMan@fortune500.com\n"
     ]
    }
   ],
   "source": [
    "print(\"emp1.email\",emp1.email)\n",
    "print(\"emp2.email\",emp2.email)"
   ]
  },
  {
   "cell_type": "code",
   "execution_count": 11,
   "metadata": {},
   "outputs": [],
   "source": [
    "class Employee:\n",
    "    def __init__(self,first,last,pay):\n",
    "        self.first = first\n",
    "        self.last = last\n",
    "        self.pay = pay\n",
    "        self.email = first+last+\"@fortune500.com\"\n",
    "    def full_name(self):\n",
    "        return self.first + self.last\n",
    "    \n",
    "emp1 = Employee(\"John\",\"Wayne\",\"6969\") #instance of the class Employee\n",
    "emp2 = Employee(\"Baite\",\"Man\",\"42069\") #instance of the class Employee"
   ]
  },
  {
   "cell_type": "code",
   "execution_count": 23,
   "metadata": {},
   "outputs": [
    {
     "name": "stdout",
     "output_type": "stream",
     "text": [
      "emp1 fullname\n",
      " JohnWayne\n",
      "We can do it using the class\n"
     ]
    },
    {
     "data": {
      "text/plain": [
       "'JohnWayne'"
      ]
     },
     "execution_count": 23,
     "metadata": {},
     "output_type": "execute_result"
    }
   ],
   "source": [
    "print(\"emp1 fullname\\n\",emp1.full_name())\n",
    "'''\n",
    "we can do it using a class\n",
    "'''\n",
    "Employee.full_name(emp1)"
   ]
  },
  {
   "cell_type": "markdown",
   "metadata": {},
   "source": [
    "**class variable** are variables that are shared amoung all instances of a class. Class variables are same for the every instances"
   ]
  },
  {
   "cell_type": "code",
   "execution_count": 43,
   "metadata": {},
   "outputs": [
    {
     "name": "stdout",
     "output_type": "stream",
     "text": [
      "1.04\n",
      "1.04\n",
      "1.04\n"
     ]
    }
   ],
   "source": [
    "class Employee:\n",
    "    \n",
    "    num_of_emps = 0\n",
    "    raise_amount = 1.04 #class variable\n",
    "    \n",
    "    def __init__(self,first,last,pay):\n",
    "        self.first = first\n",
    "        self.last = last\n",
    "        self.pay = pay\n",
    "        self.email = first+last+\"@fortune500.com\"\n",
    "        \n",
    "        Employee.num_of_emps += 1\n",
    "        \n",
    "    def full_name(self):\n",
    "        return self.first + self.last\n",
    "    \n",
    "    def apply_raise(self):\n",
    "        self.pay = float(self.pay * self.raise_amount) # we can use Employee.raise_amount\n",
    "        \n",
    "    \n",
    "    \n",
    "emp1 = Employee(\"John\",\"Wayne\",6969) #instance of the class Employee\n",
    "emp2 = Employee(\"Baite\",\"Man\",42069) #instance of the class Employee\n",
    "\n",
    "\n",
    "#print(emp1.__dict__)\n",
    "#Employee.raise_amount = 1.05\n",
    "\n",
    "print(Employee.raise_amount)\n",
    "print(emp1.raise_amount)\n",
    "print(emp2.raise_amount)"
   ]
  },
  {
   "cell_type": "markdown",
   "metadata": {},
   "source": [
    "`Employee.raise_amount = 1.05`, we will be assigning the class variable `raise_amount` to be equal `1.05`. This means that every instance of the class Employee will have the `raise_amount` of `1.05`\n",
    "\n",
    "\n",
    "`emp1.raise_amount = 1.05`, we are assigning the `emp1` attribute `raise_amount` to be equal to `1.05`. This only applies to the `emp1` instance and not the other instances.\n",
    "\n",
    "\n",
    "This is because how python look up variables. First it will look up in the attribute namespace, then it will look up class namespace and so on"
   ]
  },
  {
   "cell_type": "code",
   "execution_count": 47,
   "metadata": {},
   "outputs": [
    {
     "name": "stdout",
     "output_type": "stream",
     "text": [
      "{'first': 'John', 'last': 'Wayne', 'pay': 6969, 'email': 'JohnWayne@fortune500.com', 'raise_amount': 1.05}\n",
      "1.04\n",
      "1.05\n",
      "1.04\n"
     ]
    }
   ],
   "source": [
    "emp1.raise_amount = 1.05\n",
    "\n",
    "print(emp1.__dict__)\n",
    "print(Employee.raise_amount)\n",
    "print(emp1.raise_amount)\n",
    "print(emp2.raise_amount)"
   ]
  },
  {
   "cell_type": "code",
   "execution_count": 45,
   "metadata": {},
   "outputs": [
    {
     "name": "stdout",
     "output_type": "stream",
     "text": [
      "2\n"
     ]
    }
   ],
   "source": [
    "print(Employee.num_of_emps)"
   ]
  },
  {
   "cell_type": "markdown",
   "metadata": {},
   "source": [
    "**regular method**  automatically takes the instance of the class as the first variable and by convention it is called as `self`. (*If you need to pass the instance of the class*)\n",
    "\n",
    "**class method** takes in the class as the first argument and by convention it is called as `cls`. (*If you need to pass the class itself*)\n"
   ]
  },
  {
   "cell_type": "code",
   "execution_count": 51,
   "metadata": {},
   "outputs": [
    {
     "name": "stdout",
     "output_type": "stream",
     "text": [
      "1.04\n",
      "1.04\n",
      "1.04\n"
     ]
    }
   ],
   "source": [
    "class Employee:\n",
    "    \n",
    "    num_of_emps = 0\n",
    "    raise_amount = 1.04 #class variable\n",
    "    \n",
    "    def __init__(self,first,last,pay):\n",
    "        self.first = first\n",
    "        self.last = last\n",
    "        self.pay = pay\n",
    "        self.email = first+last+\"@fortune500.com\"\n",
    "        \n",
    "        Employee.num_of_emps += 1\n",
    "        \n",
    "    def full_name(self):\n",
    "        return self.first + self.last\n",
    "    \n",
    "    def apply_raise(self):\n",
    "        self.pay = float(self.pay * self.raise_amount) # we can use Employee.raise_amount\n",
    "    \n",
    "    @classmethod\n",
    "    def set_raise_amount(cls,amount):\n",
    "        cls.raise_amount  = amount\n",
    "    \n",
    "    \n",
    "emp1 = Employee(\"John\",\"Wayne\",6969) #instance of the class Employee\n",
    "emp2 = Employee(\"Baite\",\"Man\",42069) #instance of the class Employee\n",
    "\n",
    "\n",
    "print(Employee.raise_amount)\n",
    "print(emp1.raise_amount)\n",
    "print(emp2.raise_amount)"
   ]
  },
  {
   "cell_type": "code",
   "execution_count": 50,
   "metadata": {},
   "outputs": [
    {
     "name": "stdout",
     "output_type": "stream",
     "text": [
      "1.05\n",
      "1.05\n",
      "1.05\n"
     ]
    }
   ],
   "source": [
    "Employee.set_raise_amount(1.05) #class method \n",
    "\n",
    "print(Employee.raise_amount)\n",
    "print(emp1.raise_amount)\n",
    "print(emp2.raise_amount)"
   ]
  },
  {
   "cell_type": "markdown",
   "metadata": {},
   "source": [
    "**class method** are also used as **alternative constructor**. It is a common convention to start by `from`."
   ]
  },
  {
   "cell_type": "code",
   "execution_count": 56,
   "metadata": {},
   "outputs": [
    {
     "name": "stdout",
     "output_type": "stream",
     "text": [
      "JohnWayne@fortune500.com\n"
     ]
    }
   ],
   "source": [
    "class Employee:\n",
    "    \n",
    "    num_of_emps = 0\n",
    "    raise_amount = 1.04 #class variable\n",
    "    \n",
    "    def __init__(self,first,last,pay):\n",
    "        self.first = first\n",
    "        self.last = last\n",
    "        self.pay = pay\n",
    "        self.email = first+last+\"@fortune500.com\"\n",
    "        \n",
    "        Employee.num_of_emps += 1\n",
    "        \n",
    "    def full_name(self):\n",
    "        return self.first + self.last\n",
    "    \n",
    "    def apply_raise(self):\n",
    "        self.pay = float(self.pay * self.raise_amount) # we can use Employee.raise_amount\n",
    "    \n",
    "    @classmethod\n",
    "    def set_raise_amount(cls,amount):\n",
    "        cls.raise_amount  = amount\n",
    "\n",
    "    #alternative constructor\n",
    "    @classmethod\n",
    "    def from_string(cls,emp_str):\n",
    "        first,last,pay = emp_str.split('-')\n",
    "        return cls(first,last,pay)\n",
    "\n",
    "    \n",
    "emp1_str = 'John-Wayne-6969'\n",
    "emp1 = Employee.from_string(emp1_str)\n",
    "print(emp1.email)"
   ]
  },
  {
   "cell_type": "markdown",
   "metadata": {},
   "source": [
    "**static method** don't pass anything automatically, they behave like function. A giveway that a function is a static method is if you dont access the instance  or the class anywhere within function"
   ]
  },
  {
   "cell_type": "code",
   "execution_count": 60,
   "metadata": {},
   "outputs": [
    {
     "data": {
      "text/plain": [
       "True"
      ]
     },
     "execution_count": 60,
     "metadata": {},
     "output_type": "execute_result"
    }
   ],
   "source": [
    "class Employee:\n",
    "    \n",
    "    num_of_emps = 0\n",
    "    raise_amount = 1.04 #class variable\n",
    "    \n",
    "    def __init__(self,first,last,pay):\n",
    "        self.first = first\n",
    "        self.last = last\n",
    "        self.pay = pay\n",
    "        self.email = first+last+\"@fortune500.com\"\n",
    "        \n",
    "        Employee.num_of_emps += 1\n",
    "        \n",
    "    def full_name(self):\n",
    "        return self.first + self.last\n",
    "    \n",
    "    def apply_raise(self):\n",
    "        self.pay = float(self.pay * self.raise_amount) # we can use Employee.raise_amount\n",
    "    \n",
    "    @classmethod\n",
    "    def set_raise_amount(cls,amount):\n",
    "        cls.raise_amount  = amount\n",
    "\n",
    "    #alternative constructor\n",
    "    @classmethod\n",
    "    def from_string(cls,emp_str):\n",
    "        first,last,pay = emp_str.split('-')\n",
    "        return cls(first,last,pay)\n",
    "    \n",
    "    @staticmethod\n",
    "    def is_workday(day):\n",
    "        if day.weekday() == 5 or day.weekday() == 6:\n",
    "            return False\n",
    "        else:\n",
    "            return True\n",
    "    \n",
    "emp1 = Employee(\"John\",\"Wayne\",6969) #instance of the class Employee\n",
    "emp2 = Employee(\"Baite\",\"Man\",42069) #instance of the class Employee\n",
    "\n",
    "import datetime\n",
    "my_date = datetime.date(2020,6,16)\n",
    "\n",
    "Employee.is_workday(my_date)"
   ]
  },
  {
   "cell_type": "markdown",
   "metadata": {},
   "source": [
    "**Inheritance** allows us to inherit attributes and methods from a parent class now this is useful because we can create subclasses and get the functionality of the parent class and we can overwrite or add functionality without affecting the parent class"
   ]
  },
  {
   "cell_type": "code",
   "execution_count": 75,
   "metadata": {},
   "outputs": [
    {
     "name": "stdout",
     "output_type": "stream",
     "text": [
      "6969\n",
      "7665.900000000001\n",
      "JohnWayne@fortune500.com\n",
      "python\n"
     ]
    }
   ],
   "source": [
    "class Developer(Employee):\n",
    "    raise_amount = 1.10\n",
    "    \n",
    "    def __init__(self,first,last,pay,prog_lang):\n",
    "        super().__init__(first,last,pay)\n",
    "#       Employee.__init__(self,first,last,pay)\n",
    "        self.prog_lang = prog_lang\n",
    "    \n",
    "dev1 = Developer(\"John\",\"Wayne\",6969,'python') #instance of the class Developer\n",
    "dev2 = Developer(\"Baite\",\"Man\",42069,'bash') #instance of the class Developer\n",
    "\n",
    "print(dev1.pay)\n",
    "dev1.apply_raise()\n",
    "print(dev1.pay)\n",
    "\n",
    "print(dev1.email)\n",
    "print(dev1.prog_lang)"
   ]
  },
  {
   "cell_type": "code",
   "execution_count": 63,
   "metadata": {},
   "outputs": [
    {
     "data": {
      "text/plain": [
       "'\\nevery python object is inherited from the object class\\n'"
      ]
     },
     "execution_count": 63,
     "metadata": {},
     "output_type": "execute_result"
    }
   ],
   "source": [
    "#help(Developer)\n",
    "\n",
    "'''\n",
    "every python object is inherited from the builtin-object class\n",
    "'''"
   ]
  },
  {
   "cell_type": "code",
   "execution_count": 81,
   "metadata": {},
   "outputs": [
    {
     "name": "stdout",
     "output_type": "stream",
     "text": [
      "JohnWayne@fortune500.com\n",
      "--> BaiteMan\n"
     ]
    }
   ],
   "source": [
    "class Manager(Employee):\n",
    "    raise_amount = 1.15\n",
    "    \n",
    "    def __init__(self,first,last,pay,emply_list= None):\n",
    "        super().__init__(first,last,pay)\n",
    "        if emply_list is None:\n",
    "            self.emply_list = []\n",
    "        else:\n",
    "            self.emply_list = emply_list\n",
    "    \n",
    "    def add_employee(self,emp):\n",
    "        if emp not in self.emply_list:\n",
    "            self.emply_list.append(emp)\n",
    "    \n",
    "    def remove_employee(self,emp):\n",
    "        if emp in self.emply_list:\n",
    "            self.emply_list.remove(emp)\n",
    "        else:\n",
    "            print(\"Employee not in the list\")\n",
    "    \n",
    "    def print_employee(self):\n",
    "        for i in self.emply_list:\n",
    "            print('-->',i.full_name())\n",
    "    \n",
    "Man1 = Manager(\"John\",\"Wayne\",6969,[dev2]) #instance of the class Manager\n",
    "print(Man1.email)\n",
    "Man1.print_employee()"
   ]
  },
  {
   "cell_type": "markdown",
   "metadata": {},
   "source": [
    "`isinstance()` will tell us if an object is an instance of a class\n",
    "\n",
    "`issubclass()` will tell us if class is a subclass of another."
   ]
  },
  {
   "cell_type": "code",
   "execution_count": 84,
   "metadata": {},
   "outputs": [
    {
     "name": "stdout",
     "output_type": "stream",
     "text": [
      "True\n",
      "True\n",
      "False\n"
     ]
    }
   ],
   "source": [
    "print(isinstance(Man1,Manager))\n",
    "print(isinstance(Man1,Employee))\n",
    "print(isinstance(Man1,Developer))"
   ]
  },
  {
   "cell_type": "code",
   "execution_count": 87,
   "metadata": {},
   "outputs": [
    {
     "name": "stdout",
     "output_type": "stream",
     "text": [
      "True\n",
      "True\n",
      "False\n"
     ]
    }
   ],
   "source": [
    "print(issubclass(Manager,Employee))\n",
    "print(issubclass(Developer,Employee))\n",
    "print(issubclass(Manager,Developer))"
   ]
  },
  {
   "cell_type": "markdown",
   "metadata": {},
   "source": [
    "**Special Method** allows to emulate built-in behavior in python and also used implement operator overloading."
   ]
  },
  {
   "cell_type": "code",
   "execution_count": 109,
   "metadata": {},
   "outputs": [
    {
     "name": "stdout",
     "output_type": "stream",
     "text": [
      "3\n",
      "3\n",
      "ab\n",
      "ab\n",
      "JohnWayne-JohnWayne@fortune500.com\n"
     ]
    },
    {
     "data": {
      "text/plain": [
       "'\\nBy defining special methods we will be able to change built-in behavior and operations.\\n'"
      ]
     },
     "execution_count": 109,
     "metadata": {},
     "output_type": "execute_result"
    }
   ],
   "source": [
    "print(1+2)\n",
    "print(int.__add__(1,2))\n",
    "\n",
    "print('a'+'b')\n",
    "\n",
    "print(str.__add__('a','b'))\n",
    "\n",
    "print(emp1)\n",
    "'''\n",
    "By defining special methods we will be able to change built-in behavior and operations.\n",
    "'''"
   ]
  },
  {
   "cell_type": "code",
   "execution_count": 110,
   "metadata": {},
   "outputs": [],
   "source": [
    "class Employee:\n",
    "    \n",
    "    num_of_emps = 0\n",
    "    raise_amount = 1.04 #class variable\n",
    "    \n",
    "    def __init__(self,first,last,pay):\n",
    "        self.first = first\n",
    "        self.last = last\n",
    "        self.pay = pay\n",
    "        self.email = first+last+\"@fortune500.com\"\n",
    "        \n",
    "        Employee.num_of_emps += 1\n",
    "        \n",
    "    def full_name(self):\n",
    "        return self.first + self.last\n",
    "    \n",
    "    def apply_raise(self):\n",
    "        self.pay = float(self.pay * self.raise_amount) # we can use Employee.raise_amount\n",
    "        \n",
    "    def __repr__(self):\n",
    "        return \"Employee('{}','{}',{})\".format(self.first,self.last,self.pay)\n",
    "        \n",
    "    def __str__(self):\n",
    "        return '{}-{}'.format(self.full_name(),self.email)\n",
    "    \n",
    "    def __len__(self):\n",
    "        return len(self.full_name())\n",
    "    \n",
    "emp1 = Employee(\"John\",\"Wayne\",6969) #instance of the class Employee\n",
    "emp2 = Employee(\"Baite\",\"Man\",42069) #instance of the class Employee\n"
   ]
  },
  {
   "cell_type": "code",
   "execution_count": 112,
   "metadata": {},
   "outputs": [
    {
     "name": "stdout",
     "output_type": "stream",
     "text": [
      "JohnWayne-JohnWayne@fortune500.com\n",
      "BaiteMan-BaiteMan@fortune500.com\n",
      "9\n"
     ]
    }
   ],
   "source": [
    "'''\n",
    "print(len('test'))\n",
    "print('test'.__len__())\n",
    "'''\n",
    "print(emp1)\n",
    "print(emp2)\n",
    "print(len(emp1))"
   ]
  },
  {
   "cell_type": "markdown",
   "metadata": {},
   "source": [
    "**Property Decorator**\n",
    "\n",
    "Allows us to define a method but we can access it like an attribute"
   ]
  },
  {
   "cell_type": "code",
   "execution_count": 1,
   "metadata": {},
   "outputs": [
    {
     "name": "stdout",
     "output_type": "stream",
     "text": [
      "Tim\n",
      "TimCook@fortune500.com\n",
      "TimCook\n",
      "Delete Name\n"
     ]
    }
   ],
   "source": [
    "class Employee:\n",
    "    \n",
    "    num_of_emps = 0\n",
    "    raise_amount = 1.04 #class variable\n",
    "    \n",
    "    def __init__(self,first,last):\n",
    "        self.first = first\n",
    "        self.last = last\n",
    "    \n",
    "    @property\n",
    "    def email(self):\n",
    "        return self.first+self.last+\"@fortune500.com\"\n",
    "\n",
    "    @property\n",
    "    def full_name(self):\n",
    "        return self.first + self.last\n",
    "    \n",
    "    #setter\n",
    "    @full_name.setter\n",
    "    def full_name(self,name):\n",
    "        first,last = name.split(\" \")\n",
    "        self.first = first\n",
    "        self.last = last\n",
    "    \n",
    "    #deleter // setter\n",
    "    @full_name.deleter\n",
    "    def full_name(self):\n",
    "        print('Delete Name')\n",
    "        self.first = None\n",
    "        self.last = None\n",
    "        \n",
    "emp1 = Employee(\"John\",\"Wayne\") #instance of the class Employee\n",
    "emp2 = Employee(\"Baite\",\"Man\") #instance of the class Employee\n",
    "\n",
    "emp1.full_name = 'Tim Cook' #calls the setter\n",
    "\n",
    "print(emp1.first)\n",
    "print(emp1.email)\n",
    "print(emp1.full_name)\n",
    "\n",
    "del emp1.full_name"
   ]
  },
  {
   "cell_type": "markdown",
   "metadata": {},
   "source": [
    "**abstract classes** are special type of class that cannot be instantiated but can be subclassed. When the abstract class is subclassed the child class need to implement all the methods in the abstract classes. A class cannot inherit from multiple abstract classes, and abstract can have private methods and non static or final properties. \n",
    "\n",
    "This means that the child class can inherit and override the methods in the abstract class."
   ]
  },
  {
   "cell_type": "markdown",
   "metadata": {},
   "source": [
    "*Inheritance* of *object*\n",
    "\n",
    "<h3>Python 2.x Story </h3>\n",
    "\n",
    "In python 2.x there is two styles of classes depending on the presence or absence of the `object` as a base class."
   ]
  },
  {
   "cell_type": "markdown",
   "metadata": {},
   "source": [
    "**\"classic\" style classes: they dont have** `object` **as a base class**"
   ]
  },
  {
   "cell_type": "code",
   "execution_count": 1,
   "metadata": {},
   "outputs": [
    {
     "data": {
      "text/plain": [
       "(object,)"
      ]
     },
     "execution_count": 1,
     "metadata": {},
     "output_type": "execute_result"
    }
   ],
   "source": [
    "class ClassicSpam:\n",
    "    pass\n",
    "ClassicSpam.__bases__"
   ]
  },
  {
   "cell_type": "markdown",
   "metadata": {},
   "source": [
    "**\"new\" style classes: they have, directly or indirectly inherited from the** `object` **as a base class**"
   ]
  },
  {
   "cell_type": "code",
   "execution_count": 2,
   "metadata": {},
   "outputs": [
    {
     "data": {
      "text/plain": [
       "(object,)"
      ]
     },
     "execution_count": 2,
     "metadata": {},
     "output_type": "execute_result"
    }
   ],
   "source": [
    "class NewSpam(object):\n",
    "    pass\n",
    "NewSpam.__bases__"
   ]
  },
  {
   "cell_type": "code",
   "execution_count": 1,
   "metadata": {},
   "outputs": [
    {
     "data": {
      "text/plain": [
       "(object,)"
      ]
     },
     "execution_count": 1,
     "metadata": {},
     "output_type": "execute_result"
    }
   ],
   "source": [
    "# indirect inheritance\n",
    "class IntSpam(int):\n",
    "    pass\n",
    "IntSpam.__bases__\n",
    "# because int inherits from object\n",
    "IntSpam.__bases__[0].__bases__"
   ]
  },
  {
   "cell_type": "markdown",
   "metadata": {},
   "source": [
    "## References\n",
    "\n",
    "[corey schafer classes](https://coreyms.com/development/python/python-oop-tutorials-complete-series)"
   ]
  }
 ],
 "metadata": {
  "kernelspec": {
   "display_name": "Python 3",
   "language": "python",
   "name": "python3"
  },
  "language_info": {
   "codemirror_mode": {
    "name": "ipython",
    "version": 3
   },
   "file_extension": ".py",
   "mimetype": "text/x-python",
   "name": "python",
   "nbconvert_exporter": "python",
   "pygments_lexer": "ipython3",
   "version": "3.8.3"
  }
 },
 "nbformat": 4,
 "nbformat_minor": 4
}
