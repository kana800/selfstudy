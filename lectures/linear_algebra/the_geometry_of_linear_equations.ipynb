{
 "cells": [
  {
   "cell_type": "markdown",
   "metadata": {},
   "source": [
    "This notebook contains a summary of the [Lecture 1](https://www.youtube.com/watch?v=J7DzL2_Na80&list=PLE7DDD91010BC51F8&index=2) of [MIT 18.06 Linear Algebra course](https://ocw.mit.edu/courses/mathematics/18-06sc-linear-algebra-fall-2011/syllabus/)"
   ]
  },
  {
   "cell_type": "code",
   "execution_count": 2,
   "metadata": {},
   "outputs": [],
   "source": [
    "import numpy as np\n",
    "import matplotlib.pyplot as plt"
   ]
  },
  {
   "cell_type": "markdown",
   "metadata": {},
   "source": [
    "# The Geometry of Linear Equations\n",
    "\n",
    "fundamental problem of linear algebra is to solve a system of linear equations."
   ]
  },
  {
   "cell_type": "markdown",
   "metadata": {},
   "source": [
    "## Row Picture\n",
    "\n",
    "Example : \n",
    "$$ 2x - y = 0$$\n",
    "$$ -x + 2y = 3$$\n",
    "\n",
    "We can write the above equation in the matrix form.\n",
    "\n",
    "$$ \\begin{bmatrix}  2 & -1\\\\ -1 & 2 \\end{bmatrix} \\begin{bmatrix}x\\\\ y\\end{bmatrix} = \\begin{bmatrix}0 \\\\ 3\\end{bmatrix} $$\n",
    "\n",
    "We can simplify this further down to : \n",
    "\n",
    "$$ Ax = b$$\n",
    "\n",
    "where `A` is the matrix : $$ \\begin{bmatrix}  2 & -1\\\\ -1 & 2 \\end{bmatrix}$$\n",
    "\n",
    "To obtain the answer we can rearrange the equation : \n",
    "\n",
    "$$ x = bA^{-1} $$\n",
    "\n",
    "The intersection point of the two lines gives the answers. As you can see in the ouput below.\n",
    "\n",
    "---"
   ]
  },
  {
   "cell_type": "code",
   "execution_count": 3,
   "metadata": {},
   "outputs": [
    {
     "name": "stdout",
     "output_type": "stream",
     "text": [
      "answer matrix : \n",
      " [[1.]\n",
      " [2.]]\n"
     ]
    },
    {
     "data": {
      "image/png": "[encoded data removed]",
      "text/plain": [
       "<Figure size 432x288 with 1 Axes>"
      ]
     },
     "metadata": {
      "needs_background": "light"
     },
     "output_type": "display_data"
    }
   ],
   "source": [
    "A = np.array([[2,-1],[-1,2]]) # representing A matrix in numpy\n",
    "B = np.array([[0],[3]])\n",
    "\n",
    "# method 1 : solving through simple calculation\n",
    "A_inverse = np.linalg.inv(A)\n",
    "\n",
    "print(\"answer matrix : \\n\",A_inverse.dot(B)) #x = n * inverse(A)\n",
    "'''\n",
    "we can use np.dot(A,B) method\n",
    "np.matmul(A,B)\n",
    "A@B\n",
    "'''\n",
    "\n",
    "# generating a set of coordinates for the equation #1  (2x - y = 0) & 2\n",
    "x  = np.linspace(-5,5,100)\n",
    "y1 = 2 * x\n",
    "y2 = (3 + x) / 2\n",
    "\n",
    "# find the intersection point\n",
    "\n",
    "fig,ax = plt.subplots()\n",
    "ax.plot(x,y1,label=\"eq#1\");\n",
    "ax.plot(x,y2,label=\"eq#2\");"
   ]
  },
  {
   "cell_type": "markdown",
   "metadata": {},
   "source": [
    "## Column Picture\n",
    "\n",
    "\n",
    "\n",
    "Now we are going to look at the column of the equations\n",
    "\n",
    "$$ 2x - y = 0$$\n",
    "$$ -x + 2y = 3$$\n",
    "\n",
    "\n",
    "$$ x \\begin{bmatrix}  2\\\\ -1 \\end{bmatrix} + y\\begin{bmatrix}-1\\\\ 2\\end{bmatrix} = \\begin{bmatrix}0 \\\\ 3\\end{bmatrix} $$\n",
    "\n",
    "The following above equation is telling us to *combine the write amount of x and y to obtain the answer vector*. This is called **Linear combination of the columns**"
   ]
  },
  {
   "cell_type": "code",
   "execution_count": 29,
   "metadata": {},
   "outputs": [
    {
     "data": {
      "image/png": "[encoded data removed]",
      "text/plain": [
       "<Figure size 432x288 with 2 Axes>"
      ]
     },
     "metadata": {
      "needs_background": "light"
     },
     "output_type": "display_data"
    }
   ],
   "source": [
    "a = np.array([[2],[-1]]) # this is the 2,-1 vector\n",
    "b = np.array([[-1],[2]]) # this is the -1,2 vector\n",
    "c = np.array([[0],[3]])  # this is the 0,3  vector\n",
    "\n",
    "origin = np.array([[0],[0]])\n",
    "\n",
    "fig,((ax1,ax2)) = plt.subplots(1,2)\n",
    "ax1.quiver(0,0,a[0],a[1],units='xy',scale=1,color=\"red\")\n",
    "ax1.quiver(0,0,b[0],b[1],units='xy',scale=1,color=\"blue\")\n",
    "\n",
    "ax2.quiver(0,0,a[0],a[1],units='xy',scale=1,color=\"red\")\n",
    "# we multiple by 2 because we are find the correct pair\n",
    "ax2.quiver(a[0],a[1],2 * b[0],2 * b[1],units='xy',scale=1,color=\"blue\")\n",
    "\n",
    "ax1.set_aspect('equal')\n",
    "ax2.set_aspect('equal')\n",
    "\n",
    "ax1.set_title(\"Normal Vector\")\n",
    "ax2.set_title(\"Vector w/ Answer\")\n",
    "ax1.set_xlim(-3,3)\n",
    "ax1.set_ylim(-3,3)\n",
    "ax1.grid(True)\n",
    "ax2.set_xlim(-3,3)\n",
    "ax2.set_ylim(-3,3)\n",
    "ax2.grid(True)\n",
    "\n",
    "plt.show()"
   ]
  }
 ],
 "metadata": {
  "kernelspec": {
   "display_name": "Python 3",
   "language": "python",
   "name": "python3"
  },
  "language_info": {
   "codemirror_mode": {
    "name": "ipython",
    "version": 3
   },
   "file_extension": ".py",
   "mimetype": "text/x-python",
   "name": "python",
   "nbconvert_exporter": "python",
   "pygments_lexer": "ipython3",
   "version": "3.8.5"
  }
 },
 "nbformat": 4,
 "nbformat_minor": 4
}
