{
 "cells": [
  {
   "cell_type": "markdown",
   "id": "excited-education",
   "metadata": {},
   "source": [
    "#### End to End Machine Learning Project\n",
    "\n",
    "*This is an example project from the book but with a different dataset*\n",
    "\n",
    "For this project we will be using the [bank analysis](https://latex.codecogs.com/png.latex?%5Cinline%20x%20%3D%200)"
   ]
  },
  {
   "cell_type": "markdown",
   "id": "determined-kuwait",
   "metadata": {},
   "source": [
    "##### 1 Frame the problem\n",
    "\n",
    "1. Ask how the model is being used, mention what the model's output will look like.\n",
    "\n",
    "---\n",
    "#### pipelines\n",
    "\n",
    "> A sequence of data processing components is called a data *pipeline*.\n",
    "\n",
    "> Components typically run aysnchronously. Each component pulls in a large amount of data, processes it, and spits out the result in another data store. Then, some time later, the next component in the pipeline pulls this data and spits out its own output.\n",
    "\n",
    "If a component breaks down we can use the last output of the component, and broken component would go unnoticed if not properly monitored\n",
    "\n",
    "---\n",
    "\n",
    "2. Next step would be ask if there any current solutions to solve the problem (if there is any) and find how the current solution find the answer for the problem."
   ]
  },
  {
   "cell_type": "markdown",
   "id": "affiliated-picture",
   "metadata": {},
   "source": [
    "##### 2 Designing the System\n",
    "\n",
    "3. Find whether the current machine learning problem is supervised, unsupervised or reinforcement learning, Find whether the it is a classification task, a regression task. Find whether you will need to use batch learning or online learning techniques\n",
    "\n",
    "\n",
    "Current problem is **supervised task** and a **regression problem**. The dataset has labeled training examples mentioning whether its users are buying the product are they not. \n",
    "\n",
    "4. Select a performance measure. A typical performance measure for regression problem is Root Mean Square Error (RMSE).This is also known as the cost function.\n",
    "\n",
    "\n",
    "![RMSE](https://latex.codecogs.com/png.latex?%5Cinline%20%5Ctextup%7BRMSE%7D%28%5Cmathbf%7BX%7D%2Ch%29%20%3D%20%5Csqrt%7B%5Cfrac%7B1%7D%7Bm%7D%20%5Csum_%7Bi%20%3D%201%7D%5E%7Bm%7D%28h%28%5Cmathbf%7Bx%7D%5E%7B%28i%29%7D-y%5E%7B%28i%29%7D%29%29%5E%7B2%7D%7D)\n",
    "\n",
    "[more information](https://github.com/kana800/selfstudy/blob/main/_course/course_1/Model%20and%20Cost%20Function.ipynb)"
   ]
  },
  {
   "cell_type": "markdown",
   "id": "atomic-wright",
   "metadata": {},
   "source": [
    "#### Loading the Data"
   ]
  },
  {
   "cell_type": "code",
   "execution_count": 1,
   "id": "widespread-celtic",
   "metadata": {},
   "outputs": [],
   "source": [
    "import pandas as pd\n",
    "\n",
    "df = pd.read_csv('train.csv')"
   ]
  },
  {
   "cell_type": "code",
   "execution_count": 2,
   "id": "negative-sequence",
   "metadata": {},
   "outputs": [
    {
     "data": {
      "text/html": [
       "<div>\n",
       "<style scoped>\n",
       "    .dataframe tbody tr th:only-of-type {\n",
       "        vertical-align: middle;\n",
       "    }\n",
       "\n",
       "    .dataframe tbody tr th {\n",
       "        vertical-align: top;\n",
       "    }\n",
       "\n",
       "    .dataframe thead th {\n",
       "        text-align: right;\n",
       "    }\n",
       "</style>\n",
       "<table border=\"1\" class=\"dataframe\">\n",
       "  <thead>\n",
       "    <tr style=\"text-align: right;\">\n",
       "      <th></th>\n",
       "      <th>age</th>\n",
       "      <th>job</th>\n",
       "      <th>marital</th>\n",
       "      <th>education</th>\n",
       "      <th>default</th>\n",
       "      <th>housing</th>\n",
       "      <th>loan</th>\n",
       "      <th>contact</th>\n",
       "      <th>month</th>\n",
       "      <th>day_of_week</th>\n",
       "      <th>...</th>\n",
       "      <th>campaign</th>\n",
       "      <th>pdays</th>\n",
       "      <th>previous</th>\n",
       "      <th>poutcome</th>\n",
       "      <th>emp.var.rate</th>\n",
       "      <th>cons.price.idx</th>\n",
       "      <th>cons.conf.idx</th>\n",
       "      <th>euribor3m</th>\n",
       "      <th>nr.employed</th>\n",
       "      <th>y</th>\n",
       "    </tr>\n",
       "  </thead>\n",
       "  <tbody>\n",
       "    <tr>\n",
       "      <th>0</th>\n",
       "      <td>25</td>\n",
       "      <td>blue-collar</td>\n",
       "      <td>single</td>\n",
       "      <td>high.school</td>\n",
       "      <td>no</td>\n",
       "      <td>yes</td>\n",
       "      <td>no</td>\n",
       "      <td>cellular</td>\n",
       "      <td>jul</td>\n",
       "      <td>mon</td>\n",
       "      <td>...</td>\n",
       "      <td>2</td>\n",
       "      <td>999</td>\n",
       "      <td>0</td>\n",
       "      <td>nonexistent</td>\n",
       "      <td>1.4</td>\n",
       "      <td>93.918</td>\n",
       "      <td>-42.7</td>\n",
       "      <td>4.962</td>\n",
       "      <td>5228.1</td>\n",
       "      <td>no</td>\n",
       "    </tr>\n",
       "    <tr>\n",
       "      <th>1</th>\n",
       "      <td>40</td>\n",
       "      <td>admin.</td>\n",
       "      <td>married</td>\n",
       "      <td>high.school</td>\n",
       "      <td>no</td>\n",
       "      <td>no</td>\n",
       "      <td>no</td>\n",
       "      <td>telephone</td>\n",
       "      <td>jun</td>\n",
       "      <td>thu</td>\n",
       "      <td>...</td>\n",
       "      <td>1</td>\n",
       "      <td>999</td>\n",
       "      <td>0</td>\n",
       "      <td>nonexistent</td>\n",
       "      <td>1.4</td>\n",
       "      <td>94.465</td>\n",
       "      <td>-41.8</td>\n",
       "      <td>4.958</td>\n",
       "      <td>5228.1</td>\n",
       "      <td>no</td>\n",
       "    </tr>\n",
       "    <tr>\n",
       "      <th>2</th>\n",
       "      <td>51</td>\n",
       "      <td>technician</td>\n",
       "      <td>married</td>\n",
       "      <td>university.degree</td>\n",
       "      <td>no</td>\n",
       "      <td>yes</td>\n",
       "      <td>no</td>\n",
       "      <td>cellular</td>\n",
       "      <td>aug</td>\n",
       "      <td>wed</td>\n",
       "      <td>...</td>\n",
       "      <td>5</td>\n",
       "      <td>999</td>\n",
       "      <td>0</td>\n",
       "      <td>nonexistent</td>\n",
       "      <td>1.4</td>\n",
       "      <td>93.444</td>\n",
       "      <td>-36.1</td>\n",
       "      <td>4.964</td>\n",
       "      <td>5228.1</td>\n",
       "      <td>yes</td>\n",
       "    </tr>\n",
       "  </tbody>\n",
       "</table>\n",
       "<p>3 rows × 21 columns</p>\n",
       "</div>"
      ],
      "text/plain": [
       "   age          job  marital          education default housing loan  \\\n",
       "0   25  blue-collar   single        high.school      no     yes   no   \n",
       "1   40       admin.  married        high.school      no      no   no   \n",
       "2   51   technician  married  university.degree      no     yes   no   \n",
       "\n",
       "     contact month day_of_week  ...  campaign  pdays  previous     poutcome  \\\n",
       "0   cellular   jul         mon  ...         2    999         0  nonexistent   \n",
       "1  telephone   jun         thu  ...         1    999         0  nonexistent   \n",
       "2   cellular   aug         wed  ...         5    999         0  nonexistent   \n",
       "\n",
       "  emp.var.rate  cons.price.idx  cons.conf.idx  euribor3m  nr.employed    y  \n",
       "0          1.4          93.918          -42.7      4.962       5228.1   no  \n",
       "1          1.4          94.465          -41.8      4.958       5228.1   no  \n",
       "2          1.4          93.444          -36.1      4.964       5228.1  yes  \n",
       "\n",
       "[3 rows x 21 columns]"
      ]
     },
     "execution_count": 2,
     "metadata": {},
     "output_type": "execute_result"
    }
   ],
   "source": [
    "# quick look at the Data Structure\n",
    "df.head(3)"
   ]
  },
  {
   "cell_type": "code",
   "execution_count": 3,
   "id": "surface-division",
   "metadata": {},
   "outputs": [
    {
     "name": "stdout",
     "output_type": "stream",
     "text": [
      "<class 'pandas.core.frame.DataFrame'>\n",
      "RangeIndex: 32950 entries, 0 to 32949\n",
      "Data columns (total 21 columns):\n",
      " #   Column          Non-Null Count  Dtype  \n",
      "---  ------          --------------  -----  \n",
      " 0   age             32950 non-null  int64  \n",
      " 1   job             32950 non-null  object \n",
      " 2   marital         32950 non-null  object \n",
      " 3   education       32950 non-null  object \n",
      " 4   default         32950 non-null  object \n",
      " 5   housing         32950 non-null  object \n",
      " 6   loan            32950 non-null  object \n",
      " 7   contact         32950 non-null  object \n",
      " 8   month           32950 non-null  object \n",
      " 9   day_of_week     32950 non-null  object \n",
      " 10  duration        32950 non-null  int64  \n",
      " 11  campaign        32950 non-null  int64  \n",
      " 12  pdays           32950 non-null  int64  \n",
      " 13  previous        32950 non-null  int64  \n",
      " 14  poutcome        32950 non-null  object \n",
      " 15  emp.var.rate    32950 non-null  float64\n",
      " 16  cons.price.idx  32950 non-null  float64\n",
      " 17  cons.conf.idx   32950 non-null  float64\n",
      " 18  euribor3m       32950 non-null  float64\n",
      " 19  nr.employed     32950 non-null  float64\n",
      " 20  y               32950 non-null  object \n",
      "dtypes: float64(5), int64(5), object(11)\n",
      "memory usage: 5.3+ MB\n"
     ]
    }
   ],
   "source": [
    "df.info()"
   ]
  },
  {
   "cell_type": "code",
   "execution_count": 4,
   "id": "attempted-probability",
   "metadata": {},
   "outputs": [
    {
     "data": {
      "text/html": [
       "<div>\n",
       "<style scoped>\n",
       "    .dataframe tbody tr th:only-of-type {\n",
       "        vertical-align: middle;\n",
       "    }\n",
       "\n",
       "    .dataframe tbody tr th {\n",
       "        vertical-align: top;\n",
       "    }\n",
       "\n",
       "    .dataframe thead th {\n",
       "        text-align: right;\n",
       "    }\n",
       "</style>\n",
       "<table border=\"1\" class=\"dataframe\">\n",
       "  <thead>\n",
       "    <tr style=\"text-align: right;\">\n",
       "      <th></th>\n",
       "      <th>age</th>\n",
       "      <th>duration</th>\n",
       "      <th>campaign</th>\n",
       "      <th>pdays</th>\n",
       "      <th>previous</th>\n",
       "      <th>emp.var.rate</th>\n",
       "      <th>cons.price.idx</th>\n",
       "      <th>cons.conf.idx</th>\n",
       "      <th>euribor3m</th>\n",
       "      <th>nr.employed</th>\n",
       "    </tr>\n",
       "  </thead>\n",
       "  <tbody>\n",
       "    <tr>\n",
       "      <th>count</th>\n",
       "      <td>32950.000000</td>\n",
       "      <td>32950.000000</td>\n",
       "      <td>32950.000000</td>\n",
       "      <td>32950.000000</td>\n",
       "      <td>32950.000000</td>\n",
       "      <td>32950.000000</td>\n",
       "      <td>32950.000000</td>\n",
       "      <td>32950.000000</td>\n",
       "      <td>32950.000000</td>\n",
       "      <td>32950.000000</td>\n",
       "    </tr>\n",
       "    <tr>\n",
       "      <th>mean</th>\n",
       "      <td>40.048983</td>\n",
       "      <td>259.105372</td>\n",
       "      <td>2.567648</td>\n",
       "      <td>962.414021</td>\n",
       "      <td>0.173080</td>\n",
       "      <td>0.079347</td>\n",
       "      <td>93.573330</td>\n",
       "      <td>-40.497939</td>\n",
       "      <td>3.618948</td>\n",
       "      <td>5166.964003</td>\n",
       "    </tr>\n",
       "    <tr>\n",
       "      <th>std</th>\n",
       "      <td>10.447702</td>\n",
       "      <td>260.561125</td>\n",
       "      <td>2.778174</td>\n",
       "      <td>187.064504</td>\n",
       "      <td>0.497709</td>\n",
       "      <td>1.571305</td>\n",
       "      <td>0.579098</td>\n",
       "      <td>4.636680</td>\n",
       "      <td>1.734956</td>\n",
       "      <td>72.220794</td>\n",
       "    </tr>\n",
       "    <tr>\n",
       "      <th>min</th>\n",
       "      <td>17.000000</td>\n",
       "      <td>0.000000</td>\n",
       "      <td>1.000000</td>\n",
       "      <td>0.000000</td>\n",
       "      <td>0.000000</td>\n",
       "      <td>-3.400000</td>\n",
       "      <td>92.201000</td>\n",
       "      <td>-50.800000</td>\n",
       "      <td>0.634000</td>\n",
       "      <td>4963.600000</td>\n",
       "    </tr>\n",
       "    <tr>\n",
       "      <th>25%</th>\n",
       "      <td>32.000000</td>\n",
       "      <td>102.000000</td>\n",
       "      <td>1.000000</td>\n",
       "      <td>999.000000</td>\n",
       "      <td>0.000000</td>\n",
       "      <td>-1.800000</td>\n",
       "      <td>93.075000</td>\n",
       "      <td>-42.700000</td>\n",
       "      <td>1.344000</td>\n",
       "      <td>5099.100000</td>\n",
       "    </tr>\n",
       "    <tr>\n",
       "      <th>50%</th>\n",
       "      <td>38.000000</td>\n",
       "      <td>180.000000</td>\n",
       "      <td>2.000000</td>\n",
       "      <td>999.000000</td>\n",
       "      <td>0.000000</td>\n",
       "      <td>1.100000</td>\n",
       "      <td>93.749000</td>\n",
       "      <td>-41.800000</td>\n",
       "      <td>4.857000</td>\n",
       "      <td>5191.000000</td>\n",
       "    </tr>\n",
       "    <tr>\n",
       "      <th>75%</th>\n",
       "      <td>47.000000</td>\n",
       "      <td>320.000000</td>\n",
       "      <td>3.000000</td>\n",
       "      <td>999.000000</td>\n",
       "      <td>0.000000</td>\n",
       "      <td>1.400000</td>\n",
       "      <td>93.994000</td>\n",
       "      <td>-36.400000</td>\n",
       "      <td>4.961000</td>\n",
       "      <td>5228.100000</td>\n",
       "    </tr>\n",
       "    <tr>\n",
       "      <th>max</th>\n",
       "      <td>98.000000</td>\n",
       "      <td>4918.000000</td>\n",
       "      <td>56.000000</td>\n",
       "      <td>999.000000</td>\n",
       "      <td>7.000000</td>\n",
       "      <td>1.400000</td>\n",
       "      <td>94.767000</td>\n",
       "      <td>-26.900000</td>\n",
       "      <td>5.045000</td>\n",
       "      <td>5228.100000</td>\n",
       "    </tr>\n",
       "  </tbody>\n",
       "</table>\n",
       "</div>"
      ],
      "text/plain": [
       "                age      duration      campaign         pdays      previous  \\\n",
       "count  32950.000000  32950.000000  32950.000000  32950.000000  32950.000000   \n",
       "mean      40.048983    259.105372      2.567648    962.414021      0.173080   \n",
       "std       10.447702    260.561125      2.778174    187.064504      0.497709   \n",
       "min       17.000000      0.000000      1.000000      0.000000      0.000000   \n",
       "25%       32.000000    102.000000      1.000000    999.000000      0.000000   \n",
       "50%       38.000000    180.000000      2.000000    999.000000      0.000000   \n",
       "75%       47.000000    320.000000      3.000000    999.000000      0.000000   \n",
       "max       98.000000   4918.000000     56.000000    999.000000      7.000000   \n",
       "\n",
       "       emp.var.rate  cons.price.idx  cons.conf.idx     euribor3m   nr.employed  \n",
       "count  32950.000000    32950.000000   32950.000000  32950.000000  32950.000000  \n",
       "mean       0.079347       93.573330     -40.497939      3.618948   5166.964003  \n",
       "std        1.571305        0.579098       4.636680      1.734956     72.220794  \n",
       "min       -3.400000       92.201000     -50.800000      0.634000   4963.600000  \n",
       "25%       -1.800000       93.075000     -42.700000      1.344000   5099.100000  \n",
       "50%        1.100000       93.749000     -41.800000      4.857000   5191.000000  \n",
       "75%        1.400000       93.994000     -36.400000      4.961000   5228.100000  \n",
       "max        1.400000       94.767000     -26.900000      5.045000   5228.100000  "
      ]
     },
     "execution_count": 4,
     "metadata": {},
     "output_type": "execute_result"
    }
   ],
   "source": [
    "df.describe()"
   ]
  },
  {
   "cell_type": "code",
   "execution_count": 5,
   "id": "aquatic-patio",
   "metadata": {},
   "outputs": [
    {
     "data": {
      "image/png": "[encoded data removed]",
      "text/plain": [
       "<Figure size 1440x1080 with 12 Axes>"
      ]
     },
     "metadata": {
      "needs_background": "light"
     },
     "output_type": "display_data"
    }
   ],
   "source": [
    "%matplotlib inline\n",
    "import matplotlib.pyplot as plt\n",
    "df.hist(bins=50, figsize=(20,15))\n",
    "plt.show()"
   ]
  },
  {
   "cell_type": "code",
   "execution_count": 6,
   "id": "serial-postcard",
   "metadata": {},
   "outputs": [],
   "source": [
    "import numpy as np\n",
    "\n",
    "def split_train_test(data, test_ratio):\n",
    "    shuffled_indices = np.random.permutation(len(data))\n",
    "    test_set_size = int(len(data) * test_ratio)\n",
    "    test_indices = shuffled_indices[:test_set_size]\n",
    "    train_indices = shuffled_indices[test_set_size:]\n",
    "    return data.iloc[train_indices], data.iloc[test_indices]"
   ]
  },
  {
   "cell_type": "code",
   "execution_count": 7,
   "id": "assured-communications",
   "metadata": {},
   "outputs": [
    {
     "name": "stdout",
     "output_type": "stream",
     "text": [
      "Length of Train test 26360\n",
      "Length of Test test 6590\n"
     ]
    }
   ],
   "source": [
    "train_set, test_set = split_train_test(df,0.2)\n",
    "print(\"Length of Train test\", len(train_set))\n",
    "print(\"Length of Test test\", len(test_set))"
   ]
  },
  {
   "cell_type": "code",
   "execution_count": 8,
   "id": "narrative-phrase",
   "metadata": {},
   "outputs": [],
   "source": [
    "from sklearn.model_selection import train_test_split\n",
    "\n",
    "train_set, test_set = train_test_split(df,test_size = 0.2)"
   ]
  },
  {
   "cell_type": "markdown",
   "id": "integral-globe",
   "metadata": {},
   "source": [
    "#### Finding the correlations"
   ]
  },
  {
   "cell_type": "code",
   "execution_count": 9,
   "id": "wanted-facility",
   "metadata": {},
   "outputs": [],
   "source": [
    "corr_matrix = df.corr()"
   ]
  },
  {
   "cell_type": "code",
   "execution_count": 10,
   "id": "cooperative-expression",
   "metadata": {},
   "outputs": [
    {
     "data": {
      "text/html": [
       "<div>\n",
       "<style scoped>\n",
       "    .dataframe tbody tr th:only-of-type {\n",
       "        vertical-align: middle;\n",
       "    }\n",
       "\n",
       "    .dataframe tbody tr th {\n",
       "        vertical-align: top;\n",
       "    }\n",
       "\n",
       "    .dataframe thead th {\n",
       "        text-align: right;\n",
       "    }\n",
       "</style>\n",
       "<table border=\"1\" class=\"dataframe\">\n",
       "  <thead>\n",
       "    <tr style=\"text-align: right;\">\n",
       "      <th></th>\n",
       "      <th>age</th>\n",
       "      <th>duration</th>\n",
       "      <th>campaign</th>\n",
       "      <th>pdays</th>\n",
       "      <th>previous</th>\n",
       "      <th>emp.var.rate</th>\n",
       "      <th>cons.price.idx</th>\n",
       "      <th>cons.conf.idx</th>\n",
       "      <th>euribor3m</th>\n",
       "      <th>nr.employed</th>\n",
       "    </tr>\n",
       "  </thead>\n",
       "  <tbody>\n",
       "    <tr>\n",
       "      <th>age</th>\n",
       "      <td>1.000000</td>\n",
       "      <td>-0.000534</td>\n",
       "      <td>0.003871</td>\n",
       "      <td>-0.040499</td>\n",
       "      <td>0.026070</td>\n",
       "      <td>-0.002521</td>\n",
       "      <td>-0.000826</td>\n",
       "      <td>0.131373</td>\n",
       "      <td>0.009118</td>\n",
       "      <td>-0.019976</td>\n",
       "    </tr>\n",
       "    <tr>\n",
       "      <th>duration</th>\n",
       "      <td>-0.000534</td>\n",
       "      <td>1.000000</td>\n",
       "      <td>-0.069824</td>\n",
       "      <td>-0.048276</td>\n",
       "      <td>0.020718</td>\n",
       "      <td>-0.028314</td>\n",
       "      <td>0.003376</td>\n",
       "      <td>-0.013826</td>\n",
       "      <td>-0.032236</td>\n",
       "      <td>-0.042909</td>\n",
       "    </tr>\n",
       "    <tr>\n",
       "      <th>campaign</th>\n",
       "      <td>0.003871</td>\n",
       "      <td>-0.069824</td>\n",
       "      <td>1.000000</td>\n",
       "      <td>0.053601</td>\n",
       "      <td>-0.078849</td>\n",
       "      <td>0.150863</td>\n",
       "      <td>0.126796</td>\n",
       "      <td>-0.012469</td>\n",
       "      <td>0.135417</td>\n",
       "      <td>0.144133</td>\n",
       "    </tr>\n",
       "    <tr>\n",
       "      <th>pdays</th>\n",
       "      <td>-0.040499</td>\n",
       "      <td>-0.048276</td>\n",
       "      <td>0.053601</td>\n",
       "      <td>1.000000</td>\n",
       "      <td>-0.591424</td>\n",
       "      <td>0.269786</td>\n",
       "      <td>0.076003</td>\n",
       "      <td>-0.090215</td>\n",
       "      <td>0.297244</td>\n",
       "      <td>0.374741</td>\n",
       "    </tr>\n",
       "    <tr>\n",
       "      <th>previous</th>\n",
       "      <td>0.026070</td>\n",
       "      <td>0.020718</td>\n",
       "      <td>-0.078849</td>\n",
       "      <td>-0.591424</td>\n",
       "      <td>1.000000</td>\n",
       "      <td>-0.418414</td>\n",
       "      <td>-0.201620</td>\n",
       "      <td>-0.045885</td>\n",
       "      <td>-0.452213</td>\n",
       "      <td>-0.500041</td>\n",
       "    </tr>\n",
       "    <tr>\n",
       "      <th>emp.var.rate</th>\n",
       "      <td>-0.002521</td>\n",
       "      <td>-0.028314</td>\n",
       "      <td>0.150863</td>\n",
       "      <td>0.269786</td>\n",
       "      <td>-0.418414</td>\n",
       "      <td>1.000000</td>\n",
       "      <td>0.776241</td>\n",
       "      <td>0.195424</td>\n",
       "      <td>0.972280</td>\n",
       "      <td>0.907165</td>\n",
       "    </tr>\n",
       "    <tr>\n",
       "      <th>cons.price.idx</th>\n",
       "      <td>-0.000826</td>\n",
       "      <td>0.003376</td>\n",
       "      <td>0.126796</td>\n",
       "      <td>0.076003</td>\n",
       "      <td>-0.201620</td>\n",
       "      <td>0.776241</td>\n",
       "      <td>1.000000</td>\n",
       "      <td>0.057807</td>\n",
       "      <td>0.689366</td>\n",
       "      <td>0.523400</td>\n",
       "    </tr>\n",
       "    <tr>\n",
       "      <th>cons.conf.idx</th>\n",
       "      <td>0.131373</td>\n",
       "      <td>-0.013826</td>\n",
       "      <td>-0.012469</td>\n",
       "      <td>-0.090215</td>\n",
       "      <td>-0.045885</td>\n",
       "      <td>0.195424</td>\n",
       "      <td>0.057807</td>\n",
       "      <td>1.000000</td>\n",
       "      <td>0.277527</td>\n",
       "      <td>0.100617</td>\n",
       "    </tr>\n",
       "    <tr>\n",
       "      <th>euribor3m</th>\n",
       "      <td>0.009118</td>\n",
       "      <td>-0.032236</td>\n",
       "      <td>0.135417</td>\n",
       "      <td>0.297244</td>\n",
       "      <td>-0.452213</td>\n",
       "      <td>0.972280</td>\n",
       "      <td>0.689366</td>\n",
       "      <td>0.277527</td>\n",
       "      <td>1.000000</td>\n",
       "      <td>0.945128</td>\n",
       "    </tr>\n",
       "    <tr>\n",
       "      <th>nr.employed</th>\n",
       "      <td>-0.019976</td>\n",
       "      <td>-0.042909</td>\n",
       "      <td>0.144133</td>\n",
       "      <td>0.374741</td>\n",
       "      <td>-0.500041</td>\n",
       "      <td>0.907165</td>\n",
       "      <td>0.523400</td>\n",
       "      <td>0.100617</td>\n",
       "      <td>0.945128</td>\n",
       "      <td>1.000000</td>\n",
       "    </tr>\n",
       "  </tbody>\n",
       "</table>\n",
       "</div>"
      ],
      "text/plain": [
       "                     age  duration  campaign     pdays  previous  \\\n",
       "age             1.000000 -0.000534  0.003871 -0.040499  0.026070   \n",
       "duration       -0.000534  1.000000 -0.069824 -0.048276  0.020718   \n",
       "campaign        0.003871 -0.069824  1.000000  0.053601 -0.078849   \n",
       "pdays          -0.040499 -0.048276  0.053601  1.000000 -0.591424   \n",
       "previous        0.026070  0.020718 -0.078849 -0.591424  1.000000   \n",
       "emp.var.rate   -0.002521 -0.028314  0.150863  0.269786 -0.418414   \n",
       "cons.price.idx -0.000826  0.003376  0.126796  0.076003 -0.201620   \n",
       "cons.conf.idx   0.131373 -0.013826 -0.012469 -0.090215 -0.045885   \n",
       "euribor3m       0.009118 -0.032236  0.135417  0.297244 -0.452213   \n",
       "nr.employed    -0.019976 -0.042909  0.144133  0.374741 -0.500041   \n",
       "\n",
       "                emp.var.rate  cons.price.idx  cons.conf.idx  euribor3m  \\\n",
       "age                -0.002521       -0.000826       0.131373   0.009118   \n",
       "duration           -0.028314        0.003376      -0.013826  -0.032236   \n",
       "campaign            0.150863        0.126796      -0.012469   0.135417   \n",
       "pdays               0.269786        0.076003      -0.090215   0.297244   \n",
       "previous           -0.418414       -0.201620      -0.045885  -0.452213   \n",
       "emp.var.rate        1.000000        0.776241       0.195424   0.972280   \n",
       "cons.price.idx      0.776241        1.000000       0.057807   0.689366   \n",
       "cons.conf.idx       0.195424        0.057807       1.000000   0.277527   \n",
       "euribor3m           0.972280        0.689366       0.277527   1.000000   \n",
       "nr.employed         0.907165        0.523400       0.100617   0.945128   \n",
       "\n",
       "                nr.employed  \n",
       "age               -0.019976  \n",
       "duration          -0.042909  \n",
       "campaign           0.144133  \n",
       "pdays              0.374741  \n",
       "previous          -0.500041  \n",
       "emp.var.rate       0.907165  \n",
       "cons.price.idx     0.523400  \n",
       "cons.conf.idx      0.100617  \n",
       "euribor3m          0.945128  \n",
       "nr.employed        1.000000  "
      ]
     },
     "execution_count": 10,
     "metadata": {},
     "output_type": "execute_result"
    }
   ],
   "source": [
    "corr_matrix"
   ]
  },
  {
   "cell_type": "markdown",
   "id": "refined-competition",
   "metadata": {},
   "source": [
    "#### Prepare the Data fro Machine Learning Algorithms\n",
    "\n",
    "\n",
    "##### Data Cleaning\n",
    "\n",
    "you can easily get rid of the unnescessary columns by using : \n",
    "- `dropna()`\n",
    "- `drop()`\n",
    "- `fillna()`\n",
    "\n",
    "To take care of the missing values, we can use the function [`SimpleImputer`](https://scikit-learn.org/stable/modules/generated/sklearn.impute.SimpleImputer.html) from the `Scikit-Learn` library.\n",
    "\n",
    "\n",
    "##### Handling Text & Categorical Attributes"
   ]
  },
  {
   "cell_type": "code",
   "execution_count": 11,
   "id": "desperate-warrior",
   "metadata": {},
   "outputs": [
    {
     "data": {
      "text/html": [
       "<div>\n",
       "<style scoped>\n",
       "    .dataframe tbody tr th:only-of-type {\n",
       "        vertical-align: middle;\n",
       "    }\n",
       "\n",
       "    .dataframe tbody tr th {\n",
       "        vertical-align: top;\n",
       "    }\n",
       "\n",
       "    .dataframe thead th {\n",
       "        text-align: right;\n",
       "    }\n",
       "</style>\n",
       "<table border=\"1\" class=\"dataframe\">\n",
       "  <thead>\n",
       "    <tr style=\"text-align: right;\">\n",
       "      <th></th>\n",
       "      <th>marital</th>\n",
       "    </tr>\n",
       "  </thead>\n",
       "  <tbody>\n",
       "    <tr>\n",
       "      <th>0</th>\n",
       "      <td>single</td>\n",
       "    </tr>\n",
       "    <tr>\n",
       "      <th>1</th>\n",
       "      <td>married</td>\n",
       "    </tr>\n",
       "    <tr>\n",
       "      <th>2</th>\n",
       "      <td>married</td>\n",
       "    </tr>\n",
       "  </tbody>\n",
       "</table>\n",
       "</div>"
      ],
      "text/plain": [
       "   marital\n",
       "0   single\n",
       "1  married\n",
       "2  married"
      ]
     },
     "execution_count": 11,
     "metadata": {},
     "output_type": "execute_result"
    }
   ],
   "source": [
    "df[['marital']].head(3)"
   ]
  },
  {
   "cell_type": "markdown",
   "id": "formal-north",
   "metadata": {},
   "source": [
    "The above column is considered as a **categorical attribute**. Most of machine learning algorithms prefer to work with numbers."
   ]
  },
  {
   "cell_type": "code",
   "execution_count": 12,
   "id": "dangerous-remains",
   "metadata": {},
   "outputs": [
    {
     "data": {
      "text/plain": [
       "array([[2.],\n",
       "       [1.],\n",
       "       [1.],\n",
       "       [1.],\n",
       "       [1.]])"
      ]
     },
     "execution_count": 12,
     "metadata": {},
     "output_type": "execute_result"
    }
   ],
   "source": [
    "from sklearn.preprocessing import OrdinalEncoder\n",
    "ordinal_encoder = OrdinalEncoder()\n",
    "marital_encoder = ordinal_encoder.fit_transform(df[['marital']])\n",
    "marital_encoder[:5]"
   ]
  },
  {
   "cell_type": "markdown",
   "id": "sealed-building",
   "metadata": {},
   "source": [
    "we can get the list of categories using `categories_` instance variable"
   ]
  },
  {
   "cell_type": "code",
   "execution_count": 13,
   "id": "ceramic-forward",
   "metadata": {},
   "outputs": [
    {
     "data": {
      "text/plain": [
       "[array(['divorced', 'married', 'single', 'unknown'], dtype=object)]"
      ]
     },
     "execution_count": 13,
     "metadata": {},
     "output_type": "execute_result"
    }
   ],
   "source": [
    "ordinal_encoder.categories_"
   ]
  },
  {
   "cell_type": "markdown",
   "id": "national-carter",
   "metadata": {},
   "source": [
    "One of the disadvantages with the above representation is the machine learning algorithm will assume values are similar that distant values. \n",
    "\n",
    "fine in cases like (good,bad,average).\n",
    "\n",
    "To fix this issue, we can use *one-hot encoding*, In one-hot encoding one attribute will be equal to 1 (hot) another to be 0 (cold). These new attributes are called *dummy variables*."
   ]
  },
  {
   "cell_type": "code",
   "execution_count": 14,
   "id": "australian-smell",
   "metadata": {},
   "outputs": [
    {
     "data": {
      "text/plain": [
       "<5x4 sparse matrix of type '<class 'numpy.float64'>'\n",
       "\twith 5 stored elements in Compressed Sparse Row format>"
      ]
     },
     "execution_count": 14,
     "metadata": {},
     "output_type": "execute_result"
    }
   ],
   "source": [
    "from sklearn.preprocessing import OneHotEncoder\n",
    "one_encoder = OneHotEncoder()\n",
    "marital_encoder = one_encoder.fit_transform(df[['marital']])\n",
    "marital_encoder[:5]"
   ]
  },
  {
   "cell_type": "markdown",
   "id": "impossible-ukraine",
   "metadata": {},
   "source": [
    "> A sparse matrix is used to store the location of non-zero elements. When you have a categorical attributes with thousands of categories. After one-hot encoding we get thousands of columns, and the matrix is full of 0s except for single 1 per row. This uses tons of memory to store zeros. we can use sparse martix instead"
   ]
  },
  {
   "cell_type": "code",
   "execution_count": 15,
   "id": "white-genetics",
   "metadata": {},
   "outputs": [
    {
     "data": {
      "text/plain": [
       "array([[0., 0., 1., 0.],\n",
       "       [0., 1., 0., 0.],\n",
       "       [0., 1., 0., 0.],\n",
       "       ...,\n",
       "       [0., 1., 0., 0.],\n",
       "       [1., 0., 0., 0.],\n",
       "       [0., 1., 0., 0.]])"
      ]
     },
     "execution_count": 15,
     "metadata": {},
     "output_type": "execute_result"
    }
   ],
   "source": [
    "marital_encoder.toarray()"
   ]
  },
  {
   "cell_type": "code",
   "execution_count": 16,
   "id": "eastern-custody",
   "metadata": {},
   "outputs": [
    {
     "data": {
      "text/plain": [
       "[array(['divorced', 'married', 'single', 'unknown'], dtype=object)]"
      ]
     },
     "execution_count": 16,
     "metadata": {},
     "output_type": "execute_result"
    }
   ],
   "source": [
    "one_encoder.categories_"
   ]
  },
  {
   "cell_type": "markdown",
   "id": "indian-consolidation",
   "metadata": {},
   "source": [
    "#### Custom Transformers\n",
    "\n",
    "When implementing our own transform, we need to create a class and implement three methods: `fit()`,  `transform()`, `fit_transform()`"
   ]
  },
  {
   "cell_type": "markdown",
   "id": "destroyed-giant",
   "metadata": {},
   "source": [
    "#### Feature Scaling\n",
    "\n",
    "> Machine Learning algorithms don't perform well when the input numerical attributes have very different scales.There are two common ways to get all attributes to have the same scale.\n",
    " \n",
    " \n",
    "> Min Max Scaling: Also known as normalization. Values are shifted and rescaled so that they end up ranging from 0 to 1. We do this by substracting the min value and dividing the max minux the min.\n",
    " \n",
    "> Standardization is different: first it substracts the mean value (so standardized values always have a zero mean) and then it divides by the standard deviation so that the resulting distribution has unit variance. \n",
    "\n",
    "Standardization is much less affected by outliers. Scikit-learn provides a transformer called *StandardScaler* for standardization\n",
    "\n",
    "#### Transformation Pipelines\n",
    "\n",
    "`Pipeline` constructor takes a list of name/estimator pairs defining a \n",
    "sequence of steps.\n",
    "\n",
    "```python\n",
    "num_pipeline = Pipeline([\n",
    "    ('imputer', SimpleImputer(strategy=\"median\")),\n",
    "    ('attribs_adder', CombinedAttributesAdder()),\n",
    "    ('std_scaler', StandardScaler()),\n",
    "])\n",
    "\n",
    "transformer = num_pipeline.fit_transform(housing_num)\n",
    "```\n",
    "\n",
    "> When you call the `Pipeline` `fit` method, it will call `fit_transform()` sequentially on all transformers, passing the output of each call as the parameter to the next call until it reaches the final estimator.\n",
    "\n",
    "we can use `ColumnTransformer` to apply single transformer to all columns\n",
    "\n",
    "```python\n",
    "from sklearn.compose import ColumnTransformer\n",
    "\n",
    "num_attribs = list(housing_num)\n",
    "cat_attribs = [\"ocean_proximity\"]\n",
    "\n",
    "pipeline = ColumnTransformer([\n",
    "    (\"num\", num_pipeline, num_attribs),\n",
    "    (\"cat\", OneHotEncoder(), cat_attribs),\n",
    "])\n",
    "```\n",
    "\n",
    "The above code will apply `num_pipeline` for `numerical columns` and apply `Encoder` for `categorical values`"
   ]
  },
  {
   "cell_type": "markdown",
   "id": "treated-studio",
   "metadata": {},
   "source": [
    "#### Select and Train a Model"
   ]
  }
 ],
 "metadata": {
  "kernelspec": {
   "display_name": "Python 3",
   "language": "python",
   "name": "python3"
  },
  "language_info": {
   "codemirror_mode": {
    "name": "ipython",
    "version": 3
   },
   "file_extension": ".py",
   "mimetype": "text/x-python",
   "name": "python",
   "nbconvert_exporter": "python",
   "pygments_lexer": "ipython3",
   "version": "3.8.5"
  }
 },
 "nbformat": 4,
 "nbformat_minor": 5
}
